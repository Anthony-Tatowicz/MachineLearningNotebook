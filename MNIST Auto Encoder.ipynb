{
 "cells": [
  {
   "cell_type": "code",
   "execution_count": null,
   "metadata": {
    "collapsed": true
   },
   "outputs": [],
   "source": [
    "\"\"\" Auto Encoder Example.\n",
    "Using an auto encoder on MNIST handwritten digits.\n",
    "References:\n",
    "    Y. LeCun, L. Bottou, Y. Bengio, and P. Haffner. \"Gradient-based\n",
    "    learning applied to document recognition.\" Proceedings of the IEEE,\n",
    "    86(11):2278-2324, November 1998.\n",
    "Links:\n",
    "    [MNIST Dataset] http://yann.lecun.com/exdb/mnist/\n",
    "\"\"\"\n",
    "from __future__ import division, print_function, absolute_import\n",
    "\n",
    "import numpy as np\n",
    "import matplotlib.pyplot as plt\n",
    "import tflearn\n",
    "\n",
    "# Data loading and preprocessing\n",
    "import tflearn.datasets.mnist as mnist\n",
    "X, Y, testX, testY = mnist.load_data(one_hot=True)\n",
    "\n",
    "# Building the encoder\n",
    "encoder = tflearn.input_data(shape=[None, 784])\n",
    "encoder = tflearn.fully_connected(encoder, 256)\n",
    "encoder = tflearn.fully_connected(encoder, 64)\n",
    "\n",
    "# Building the decoder\n",
    "decoder = tflearn.fully_connected(encoder, 256)\n",
    "decoder = tflearn.fully_connected(decoder, 784)\n",
    "\n",
    "# Regression, with mean square error\n",
    "net = tflearn.regression(decoder, optimizer='adam', learning_rate=0.001,\n",
    "                         loss='mean_square', metric=None)\n",
    "\n",
    "# Training the auto encoder\n",
    "model = tflearn.DNN(net, tensorboard_verbose=0)\n",
    "model.fit(X, X, n_epoch=10, validation_set=(testX, testX),\n",
    "          run_id=\"auto_encoder\", batch_size=256)\n",
    "\n",
    "# Encoding X[0] for test\n",
    "print(\"\\nTest encoding of X[0]:\")\n",
    "# New model, re-using the same session, for weights sharing\n",
    "encoding_model = tflearn.DNN(encoder, session=model.session)\n",
    "print(encoding_model.predict([X[0]]))\n",
    "\n",
    "# Testing the image reconstruction on new data (test set)\n",
    "print(\"\\nVisualizing results after being encoded and decoded:\")\n",
    "testX = tflearn.data_utils.shuffle(testX)[0]\n",
    "# Applying encode and decode over test set\n",
    "encode_decode = model.predict(testX)\n",
    "# Compare original images with their reconstructions\n",
    "f, a = plt.subplots(2, 10, figsize=(10, 2))\n",
    "for i in range(10):\n",
    "    a[0][i].imshow(np.reshape(testX[i], (28, 28)))\n",
    "    a[1][i].imshow(np.reshape(encode_decode[i], (28, 28)))\n",
    "f.show()\n",
    "plt.draw()\n",
    "plt.waitforbuttonpress()"
   ]
  }
 ],
 "metadata": {
  "kernelspec": {
   "display_name": "Python 2",
   "language": "python",
   "name": "python2"
  },
  "language_info": {
   "codemirror_mode": {
    "name": "ipython",
    "version": 2
   },
   "file_extension": ".py",
   "mimetype": "text/x-python",
   "name": "python",
   "nbconvert_exporter": "python",
   "pygments_lexer": "ipython2",
   "version": "2.7.6"
  }
 },
 "nbformat": 4,
 "nbformat_minor": 0
}
