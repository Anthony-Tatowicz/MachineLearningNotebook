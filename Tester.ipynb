{
 "cells": [
  {
   "cell_type": "code",
   "execution_count": 2,
   "metadata": {
    "collapsed": false
   },
   "outputs": [
    {
     "name": "stdout",
     "output_type": "stream",
     "text": [
      "[[ 22.  28.]\n",
      " [ 49.  64.]]\n"
     ]
    }
   ],
   "source": [
    "import tensorflow as tf\n",
    "\n",
    "# Creates a graph.\n",
    "a = tf.constant([1.0, 2.0, 3.0, 4.0, 5.0, 6.0], shape=[2, 3], name='a')\n",
    "b = tf.constant([1.0, 2.0, 3.0, 4.0, 5.0, 6.0], shape=[3, 2], name='b')\n",
    "c = tf.matmul(a, b)\n",
    "# Creates a session with log_device_placement set to True.\n",
    "sess = tf.Session(config=tf.ConfigProto(log_device_placement=True))\n",
    "# Runs the op.\n",
    "print sess.run(c)"
   ]
  },
  {
   "cell_type": "code",
   "execution_count": 15,
   "metadata": {
    "collapsed": false
   },
   "outputs": [
    {
     "name": "stdout",
     "output_type": "stream",
     "text": [
      "['p002', 'c0', 'img_44733.jpg']\n",
      "['p002', 'c0', 'img_72999.jpg']\n",
      "['p002', 'c0', 'img_25094.jpg']\n",
      "['p002', 'c0', 'img_69092.jpg']\n",
      "['p002', 'c0', 'img_92629.jpg']\n",
      "['p002', 'c0', 'img_3370.jpg']\n",
      "['p002', 'c0', 'img_67639.jpg']\n",
      "['p002', 'c0', 'img_58560.jpg']\n",
      "['p002', 'c0', 'img_35779.jpg']\n",
      "['p002', 'c0', 'img_10012.jpg']\n",
      "['p002', 'c0', 'img_70354.jpg']\n"
     ]
    }
   ],
   "source": [
    "import csv\n",
    "with open('../data/statefarmchallenge/driver_imgs_list.csv', 'rb') as f:\n",
    "    reader = csv.reader(f)\n",
    "    count = 0\n",
    "    for row in reader:\n",
    "        if count > 10:\n",
    "            break\n",
    "        print(row)\n",
    "        count = count + 1"
   ]
  },
  {
   "cell_type": "code",
   "execution_count": null,
   "metadata": {
    "collapsed": true
   },
   "outputs": [],
   "source": []
  }
 ],
 "metadata": {
  "kernelspec": {
   "display_name": "Python 2",
   "language": "python",
   "name": "python2"
  },
  "language_info": {
   "codemirror_mode": {
    "name": "ipython",
    "version": 2
   },
   "file_extension": ".py",
   "mimetype": "text/x-python",
   "name": "python",
   "nbconvert_exporter": "python",
   "pygments_lexer": "ipython2",
   "version": "2.7.6"
  }
 },
 "nbformat": 4,
 "nbformat_minor": 0
}
