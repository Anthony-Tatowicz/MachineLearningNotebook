{
 "cells": [
  {
   "cell_type": "markdown",
   "metadata": {},
   "source": [
    "# Notes for Insception Model"
   ]
  },
  {
   "cell_type": "markdown",
   "metadata": {},
   "source": [
    "Training is going smoothly loss value is at 0.7 and at step ~4000"
   ]
  },
  {
   "cell_type": "markdown",
   "metadata": {},
   "source": [
    "Might me a good idea to increse the frequency of decay rate currently it is every 30 epochs calculated like so\n",
    "\n",
    "\n",
    "$$\n",
    "batches \\; per \\; epoch = \\frac{epoch \\; size}{batch \\; size}\n",
    "$$\n",
    "\n",
    "$$\n",
    "steps\\;before\\;decay = (batches\\;per\\;epoch)(x) \\; where \\, x = the\\; number\\;of\\;epochs\\;before\\;decay\n",
    "$$"
   ]
  },
  {
   "cell_type": "code",
   "execution_count": null,
   "metadata": {
    "collapsed": true
   },
   "outputs": [],
   "source": []
  }
 ],
 "metadata": {
  "kernelspec": {
   "display_name": "Python 2",
   "language": "python",
   "name": "python2"
  },
  "language_info": {
   "codemirror_mode": {
    "name": "ipython",
    "version": 2
   },
   "file_extension": ".py",
   "mimetype": "text/x-python",
   "name": "python",
   "nbconvert_exporter": "python",
   "pygments_lexer": "ipython2",
   "version": "2.7.6"
  }
 },
 "nbformat": 4,
 "nbformat_minor": 0
}
