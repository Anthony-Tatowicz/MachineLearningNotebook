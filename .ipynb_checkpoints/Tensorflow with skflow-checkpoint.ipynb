{
 "cells": [
  {
   "cell_type": "markdown",
   "metadata": {},
   "source": [
    "### Skflow Examples"
   ]
  },
  {
   "cell_type": "code",
   "execution_count": 1,
   "metadata": {
    "collapsed": false
   },
   "outputs": [
    {
     "name": "stdout",
     "output_type": "stream",
     "text": [
      "Step #1, avg. loss: 5.27594\n",
      "Step #21, epoch #4, avg. loss: 1.46109\n",
      "Step #41, epoch #8, avg. loss: 0.80689\n",
      "Step #61, epoch #12, avg. loss: 0.61384\n",
      "Step #81, epoch #16, avg. loss: 0.52919\n",
      "Step #101, epoch #20, avg. loss: 0.46205\n",
      "Step #121, epoch #24, avg. loss: 0.63972\n",
      "Step #141, epoch #28, avg. loss: 0.36715\n",
      "Step #161, epoch #32, avg. loss: 0.48894\n",
      "Step #181, epoch #36, avg. loss: 0.32878\n",
      "Accuracy: 0.886667\n"
     ]
    }
   ],
   "source": [
    "import skflow\n",
    "from sklearn import datasets, metrics\n",
    "\n",
    "iris = datasets.load_iris()\n",
    "classifier = skflow.TensorFlowLinearClassifier(n_classes=3)\n",
    "classifier.fit(iris.data, iris.target)\n",
    "score = metrics.accuracy_score(iris.target, classifier.predict(iris.data))\n",
    "print(\"Accuracy: %f\" % score)"
   ]
  },
  {
   "cell_type": "markdown",
   "metadata": {},
   "source": [
    "### 3 Layer DNN"
   ]
  },
  {
   "cell_type": "code",
   "execution_count": 3,
   "metadata": {
    "collapsed": false
   },
   "outputs": [
    {
     "name": "stdout",
     "output_type": "stream",
     "text": [
      "Step #1, avg. loss: 1.75397\n",
      "Step #21, epoch #4, avg. loss: 0.88171\n",
      "Step #41, epoch #8, avg. loss: 0.71925\n",
      "Step #61, epoch #12, avg. loss: 0.56105\n",
      "Step #81, epoch #16, avg. loss: 0.49119\n",
      "Step #101, epoch #20, avg. loss: 0.42057\n",
      "Step #121, epoch #24, avg. loss: 0.45917\n",
      "Step #141, epoch #28, avg. loss: 0.36405\n",
      "Step #161, epoch #32, avg. loss: 0.40900\n",
      "Step #181, epoch #36, avg. loss: 0.30453\n",
      "Accuracy: 0.920000\n"
     ]
    }
   ],
   "source": [
    "import skflow\n",
    "from sklearn import datasets, metrics\n",
    "\n",
    "iris = datasets.load_iris()\n",
    "classifier = skflow.TensorFlowDNNClassifier(hidden_units=[10, 20, 10], n_classes=3)\n",
    "classifier.fit(iris.data, iris.target)\n",
    "score = metrics.accuracy_score(iris.target, classifier.predict(iris.data))\n",
    "print(\"Accuracy: %f\" % score)"
   ]
  },
  {
   "cell_type": "markdown",
   "metadata": {},
   "source": [
    "### Custom Model"
   ]
  },
  {
   "cell_type": "code",
   "execution_count": 10,
   "metadata": {
    "collapsed": false
   },
   "outputs": [
    {
     "name": "stdout",
     "output_type": "stream",
     "text": [
      "Step #1, avg. loss: 2.43245\n",
      "Step #21, epoch #4, avg. loss: 1.45744\n",
      "Step #41, epoch #8, avg. loss: 1.24527\n",
      "Step #61, epoch #12, avg. loss: 1.10682\n",
      "Step #81, epoch #16, avg. loss: 0.97506\n",
      "Step #101, epoch #20, avg. loss: 0.86803\n",
      "Step #121, epoch #24, avg. loss: 0.81878\n",
      "Step #141, epoch #28, avg. loss: 0.81754\n",
      "Step #161, epoch #32, avg. loss: 0.80495\n",
      "Step #181, epoch #36, avg. loss: 0.77042\n",
      "Accuracy: 0.666667\n"
     ]
    }
   ],
   "source": [
    "import skflow\n",
    "from sklearn import datasets, metrics\n",
    "\n",
    "iris = datasets.load_iris()\n",
    "\n",
    "def my_model(X, y):\n",
    "    \"\"\"This is DNN with 10, 20, 10 hidden layers, and dropout of 0.5 probability.\"\"\"\n",
    "    layers = skflow.ops.dnn(X, [10, 20, 10], keep_prob=0.5)\n",
    "    return skflow.models.logistic_regression(layers, y)\n",
    "\n",
    "classifier = skflow.TensorFlowEstimator(model_fn=my_model, n_classes=3)\n",
    "classifier.fit(iris.data, iris.target)\n",
    "score = metrics.accuracy_score(iris.target, classifier.predict(iris.data))\n",
    "print(\"Accuracy: %f\" % score)"
   ]
  },
  {
   "cell_type": "markdown",
   "metadata": {},
   "source": [
    "### Save / Restore"
   ]
  },
  {
   "cell_type": "code",
   "execution_count": 5,
   "metadata": {
    "collapsed": false
   },
   "outputs": [
    {
     "name": "stdout",
     "output_type": "stream",
     "text": [
      "Step #100, epoch #20, avg. train loss: 0.82306\n",
      "Step #200, epoch #40, avg. train loss: 0.46119\n",
      "Accuracy: 0.886667\n"
     ]
    }
   ],
   "source": [
    "import skflow\n",
    "from sklearn import datasets\n",
    "from sklearn.metrics import accuracy_score\n",
    "\n",
    "iris = datasets.load_iris()\n",
    "\n",
    "classifier = skflow.TensorFlowLinearClassifier(n_classes=3)\n",
    "classifier.fit(iris.data, iris.target, logdir='/Users/anthony/Google Drive/Projects/MachineLearning/models/my_model_1')\n",
    "classifier.save('/Users/anthony/Google Drive/Projects/MachineLearning/models/my_model_1')\n",
    "\n",
    "new_classifier = skflow.TensorFlowEstimator.restore('/Users/anthony/Google Drive/Projects/MachineLearning/models/my_model_1')\n",
    "pred = new_classifier.predict(iris.data)\n",
    "\n",
    "score = accuracy_score(iris.target, pred)\n",
    "print('Accuracy: %f' % score)"
   ]
  },
  {
   "cell_type": "code",
   "execution_count": null,
   "metadata": {
    "collapsed": true
   },
   "outputs": [],
   "source": [
    "tensorboard --logdir=/Users/anthony/Google Drive/Projects/MachineLearning/models/my_model_1"
   ]
  }
 ],
 "metadata": {
  "kernelspec": {
   "display_name": "Python 3",
   "language": "python",
   "name": "python3"
  },
  "language_info": {
   "codemirror_mode": {
    "name": "ipython",
    "version": 3
   },
   "file_extension": ".py",
   "mimetype": "text/x-python",
   "name": "python",
   "nbconvert_exporter": "python",
   "pygments_lexer": "ipython3",
   "version": "3.5.1"
  }
 },
 "nbformat": 4,
 "nbformat_minor": 0
}
